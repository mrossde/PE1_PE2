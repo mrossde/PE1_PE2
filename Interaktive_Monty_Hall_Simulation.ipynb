{
 "cells": [
  {
   "cell_type": "markdown",
   "id": "0ea6f91e",
   "metadata": {},
   "source": [
    "# Interaktive Monty Hall Simulation\n",
    "Dieses interaktive Notebook ermöglicht es dir, die Auswirkungen des Wechselns der Tür zu erkunden.\n",
    "Nutze die Schieberegler und Auswahlfelder unten, um das Verhalten zu verändern."
   ]
  },
  {
   "cell_type": "code",
   "execution_count": null,
   "id": "e31cf996",
   "metadata": {},
   "outputs": [],
   "source": [
    "import random\n",
    "import matplotlib.pyplot as plt\n",
    "from ipywidgets import interact, IntSlider, ToggleButtons\n",
    "import ipywidgets as widgets"
   ]
  },
  {
   "cell_type": "code",
   "execution_count": null,
   "id": "b4741e55",
   "metadata": {},
   "outputs": [],
   "source": [
    "def monty_hall_simulation(switch: bool, num_trials: int = 10000) -> float:\n",
    "    wins = 0\n",
    "    for _ in range(num_trials):\n",
    "        car_door = random.randint(0, 2)\n",
    "        player_choice = random.randint(0, 2)\n",
    "        remaining_doors = [i for i in range(3) if i != player_choice and i != car_door]\n",
    "        door_opened_by_host = random.choice(remaining_doors)\n",
    "        if switch:\n",
    "            final_choice = next(i for i in range(3) if i != player_choice and i != door_opened_by_host)\n",
    "        else:\n",
    "            final_choice = player_choice\n",
    "        if final_choice == car_door:\n",
    "            wins += 1\n",
    "    return wins / num_trials"
   ]
  },
  {
   "cell_type": "code",
   "execution_count": null,
   "id": "54f4054c",
   "metadata": {},
   "outputs": [],
   "source": [
    "def run_interactive_simulation(trials, switch_choice):\n",
    "    switch = (switch_choice == 'Wechseln')\n",
    "    win_rate = monty_hall_simulation(switch=switch, num_trials=trials)\n",
    "    \n",
    "    # Plot\n",
    "    plt.bar(['Wechseln' if switch else 'Behalten'], [win_rate], color='green' if switch else 'red')\n",
    "    plt.ylim(0, 1)\n",
    "    plt.ylabel('Gewinnrate')\n",
    "    plt.title(f'Monty-Hall-Simulation ({trials} Versuche)')\n",
    "    plt.grid(True, axis='y', linestyle='--', alpha=0.7)\n",
    "    plt.show()\n",
    "    \n",
    "    print(f\"Gewinnrate bei {'Wechseln' if switch else 'Behalten'}: {win_rate:.2%}\")"
   ]
  },
  {
   "cell_type": "code",
   "execution_count": null,
   "id": "897c6efc",
   "metadata": {},
   "outputs": [],
   "source": [
    "interact(run_interactive_simulation,\n",
    "         trials=IntSlider(min=100, max=20000, step=100, value=1000, description='Anzahl Versuche'),\n",
    "         switch_choice=ToggleButtons(options=['Wechseln', 'Behalten'], description='Strategie'))"
   ]
  }
 ],
 "metadata": {
  "language_info": {
   "name": "python"
  }
 },
 "nbformat": 4,
 "nbformat_minor": 5
}