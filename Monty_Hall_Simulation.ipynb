{
 "cells": [
  {
   "cell_type": "markdown",
   "id": "7c748ba9",
   "metadata": {},
   "source": [
    "# Monty Hall Simulation\n",
    "In diesem Notebook wird das berühmte Monty-Hall-Problem simuliert.\n",
    "\n",
    "Wir untersuchen, ob es besser ist, nach dem Öffnen einer Ziege-Tür die Tür zu wechseln oder nicht."
   ]
  },
  {
   "cell_type": "code",
   "execution_count": null,
   "id": "6e26d5d6",
   "metadata": {},
   "outputs": [],
   "source": [
    "import random\n",
    "import matplotlib.pyplot as plt"
   ]
  },
  {
   "cell_type": "code",
   "execution_count": 1,
   "id": "35dd9df3",
   "metadata": {},
   "outputs": [],
   "source": [
    "def monty_hall_simulation(switch: bool, num_trials: int = 10000) -> float:\n",
    "    \"\"\"Simuliert das Monty-Hall-Problem.\n",
    "\n",
    "    Args:\n",
    "        switch (bool): True, wenn der Spieler die Tür wechselt, sonst False.\n",
    "        num_trials (int): Anzahl der Simulationsdurchläufe.\n",
    "\n",
    "    Returns:\n",
    "        float: Gewinnrate.\n",
    "    \"\"\"\n",
    "    wins = 0\n",
    "\n",
    "    for _ in range(num_trials):\n",
    "        # Verstecke das Auto hinter einer der drei Türen\n",
    "        car_door = random.randint(0, 2)\n",
    "\n",
    "        # Spieler wählt zufällig eine Tür\n",
    "        player_choice = random.randint(0, 2)\n",
    "\n",
    "        # Moderator öffnet eine Tür, die weder die Autotür noch die gewählte Tür ist\n",
    "        remaining_doors = [i for i in range(3) if i != player_choice and i != car_door]\n",
    "        door_opened_by_host = random.choice(remaining_doors)\n",
    "\n",
    "        # Wenn Spieler wechselt, wählt er die andere noch geschlossene Tür\n",
    "        if switch:\n",
    "            final_choice = next(i for i in range(3) if i != player_choice and i != door_opened_by_host)\n",
    "        else:\n",
    "            final_choice = player_choice\n",
    "\n",
    "        if final_choice == car_door:\n",
    "            wins += 1\n",
    "\n",
    "    return wins / num_trials"
   ]
  },
  {
   "cell_type": "code",
   "execution_count": null,
   "id": "1b574c1d",
   "metadata": {},
   "outputs": [],
   "source": [
    "# Simulation durchführen\n",
    "trials = 10000\n",
    "win_rate_switch = monty_hall_simulation(switch=True, num_trials=trials)\n",
    "win_rate_stay = monty_hall_simulation(switch=False, num_trials=trials)\n",
    "\n",
    "# Ergebnisse anzeigen\n",
    "print(f\"Gewinnrate beim Wechseln: {win_rate_switch:.2%}\")\n",
    "print(f\"Gewinnrate beim Behalten: {win_rate_stay:.2%}\")"
   ]
  },
  {
   "cell_type": "code",
   "execution_count": null,
   "id": "559bf953",
   "metadata": {},
   "outputs": [],
   "source": [
    "# Plot\n",
    "labels = ['Wechseln', 'Behalten']\n",
    "rates = [win_rate_switch, win_rate_stay]\n",
    "\n",
    "plt.bar(labels, rates, color=['green', 'red'])\n",
    "plt.ylim(0, 1)\n",
    "plt.ylabel('Gewinnrate')\n",
    "plt.title(f'Monty-Hall-Simulation ({trials} Versuche)')\n",
    "plt.grid(True, axis='y', linestyle='--', alpha=0.7)\n",
    "plt.show()"
   ]
  }
 ],
 "metadata": {
  "kernelspec": {
   "display_name": "Python 3",
   "language": "python",
   "name": "python3"
  },
  "language_info": {
   "codemirror_mode": {
    "name": "ipython",
    "version": 3
   },
   "file_extension": ".py",
   "mimetype": "text/x-python",
   "name": "python",
   "nbconvert_exporter": "python",
   "pygments_lexer": "ipython3",
   "version": "3.12.1"
  }
 },
 "nbformat": 4,
 "nbformat_minor": 5
}
